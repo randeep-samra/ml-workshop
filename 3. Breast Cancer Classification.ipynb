{
 "cells": [
  {
   "cell_type": "markdown",
   "metadata": {},
   "source": [
    "# The Wisconsin breast cancer dataset"
   ]
  },
  {
   "cell_type": "code",
   "execution_count": 1,
   "metadata": {},
   "outputs": [],
   "source": [
    "import numpy as np\n",
    "import pandas as pd\n",
    "import matplotlib.pyplot as plt\n",
    "import seaborn as sns\n",
    "from IPython.display import HTML, Image\n",
    "\n",
    "%matplotlib inline"
   ]
  },
  {
   "cell_type": "markdown",
   "metadata": {},
   "source": [
    "scikit-learn has a few datasets included as part of the package. The wisconsin breat cancer dataset is one of them - we can load it as follows."
   ]
  },
  {
   "cell_type": "code",
   "execution_count": 2,
   "metadata": {},
   "outputs": [],
   "source": [
    "from sklearn.datasets import load_breast_cancer\n",
    "cancer = load_breast_cancer()"
   ]
  },
  {
   "cell_type": "markdown",
   "metadata": {},
   "source": [
    "And it comes in dictionary form:"
   ]
  },
  {
   "cell_type": "code",
   "execution_count": 3,
   "metadata": {
    "scrolled": true
   },
   "outputs": [
    {
     "data": {
      "text/plain": [
       "{'data': array([[1.799e+01, 1.038e+01, 1.228e+02, ..., 2.654e-01, 4.601e-01,\n",
       "         1.189e-01],\n",
       "        [2.057e+01, 1.777e+01, 1.329e+02, ..., 1.860e-01, 2.750e-01,\n",
       "         8.902e-02],\n",
       "        [1.969e+01, 2.125e+01, 1.300e+02, ..., 2.430e-01, 3.613e-01,\n",
       "         8.758e-02],\n",
       "        ...,\n",
       "        [1.660e+01, 2.808e+01, 1.083e+02, ..., 1.418e-01, 2.218e-01,\n",
       "         7.820e-02],\n",
       "        [2.060e+01, 2.933e+01, 1.401e+02, ..., 2.650e-01, 4.087e-01,\n",
       "         1.240e-01],\n",
       "        [7.760e+00, 2.454e+01, 4.792e+01, ..., 0.000e+00, 2.871e-01,\n",
       "         7.039e-02]]),\n",
       " 'target': array([0, 0, 0, 0, 0, 0, 0, 0, 0, 0, 0, 0, 0, 0, 0, 0, 0, 0, 0, 1, 1, 1,\n",
       "        0, 0, 0, 0, 0, 0, 0, 0, 0, 0, 0, 0, 0, 0, 0, 1, 0, 0, 0, 0, 0, 0,\n",
       "        0, 0, 1, 0, 1, 1, 1, 1, 1, 0, 0, 1, 0, 0, 1, 1, 1, 1, 0, 1, 0, 0,\n",
       "        1, 1, 1, 1, 0, 1, 0, 0, 1, 0, 1, 0, 0, 1, 1, 1, 0, 0, 1, 0, 0, 0,\n",
       "        1, 1, 1, 0, 1, 1, 0, 0, 1, 1, 1, 0, 0, 1, 1, 1, 1, 0, 1, 1, 0, 1,\n",
       "        1, 1, 1, 1, 1, 1, 1, 0, 0, 0, 1, 0, 0, 1, 1, 1, 0, 0, 1, 0, 1, 0,\n",
       "        0, 1, 0, 0, 1, 1, 0, 1, 1, 0, 1, 1, 1, 1, 0, 1, 1, 1, 1, 1, 1, 1,\n",
       "        1, 1, 0, 1, 1, 1, 1, 0, 0, 1, 0, 1, 1, 0, 0, 1, 1, 0, 0, 1, 1, 1,\n",
       "        1, 0, 1, 1, 0, 0, 0, 1, 0, 1, 0, 1, 1, 1, 0, 1, 1, 0, 0, 1, 0, 0,\n",
       "        0, 0, 1, 0, 0, 0, 1, 0, 1, 0, 1, 1, 0, 1, 0, 0, 0, 0, 1, 1, 0, 0,\n",
       "        1, 1, 1, 0, 1, 1, 1, 1, 1, 0, 0, 1, 1, 0, 1, 1, 0, 0, 1, 0, 1, 1,\n",
       "        1, 1, 0, 1, 1, 1, 1, 1, 0, 1, 0, 0, 0, 0, 0, 0, 0, 0, 0, 0, 0, 0,\n",
       "        0, 0, 1, 1, 1, 1, 1, 1, 0, 1, 0, 1, 1, 0, 1, 1, 0, 1, 0, 0, 1, 1,\n",
       "        1, 1, 1, 1, 1, 1, 1, 1, 1, 1, 1, 0, 1, 1, 0, 1, 0, 1, 1, 1, 1, 1,\n",
       "        1, 1, 1, 1, 1, 1, 1, 1, 1, 0, 1, 1, 1, 0, 1, 0, 1, 1, 1, 1, 0, 0,\n",
       "        0, 1, 1, 1, 1, 0, 1, 0, 1, 0, 1, 1, 1, 0, 1, 1, 1, 1, 1, 1, 1, 0,\n",
       "        0, 0, 1, 1, 1, 1, 1, 1, 1, 1, 1, 1, 1, 0, 0, 1, 0, 0, 0, 1, 0, 0,\n",
       "        1, 1, 1, 1, 1, 0, 1, 1, 1, 1, 1, 0, 1, 1, 1, 0, 1, 1, 0, 0, 1, 1,\n",
       "        1, 1, 1, 1, 0, 1, 1, 1, 1, 1, 1, 1, 0, 1, 1, 1, 1, 1, 0, 1, 1, 0,\n",
       "        1, 1, 1, 1, 1, 1, 1, 1, 1, 1, 1, 1, 0, 1, 0, 0, 1, 0, 1, 1, 1, 1,\n",
       "        1, 0, 1, 1, 0, 1, 0, 1, 1, 0, 1, 0, 1, 1, 1, 1, 1, 1, 1, 1, 0, 0,\n",
       "        1, 1, 1, 1, 1, 1, 0, 1, 1, 1, 1, 1, 1, 1, 1, 1, 1, 0, 1, 1, 1, 1,\n",
       "        1, 1, 1, 0, 1, 0, 1, 1, 0, 1, 1, 1, 1, 1, 0, 0, 1, 0, 1, 0, 1, 1,\n",
       "        1, 1, 1, 0, 1, 1, 0, 1, 0, 1, 0, 0, 1, 1, 1, 0, 1, 1, 1, 1, 1, 1,\n",
       "        1, 1, 1, 1, 1, 0, 1, 0, 0, 1, 1, 1, 1, 1, 1, 1, 1, 1, 1, 1, 1, 1,\n",
       "        1, 1, 1, 1, 1, 1, 1, 1, 1, 1, 1, 1, 0, 0, 0, 0, 0, 0, 1]),\n",
       " 'target_names': array(['malignant', 'benign'], dtype='<U9'),\n",
       " 'DESCR': 'Breast Cancer Wisconsin (Diagnostic) Database\\n=============================================\\n\\nNotes\\n-----\\nData Set Characteristics:\\n    :Number of Instances: 569\\n\\n    :Number of Attributes: 30 numeric, predictive attributes and the class\\n\\n    :Attribute Information:\\n        - radius (mean of distances from center to points on the perimeter)\\n        - texture (standard deviation of gray-scale values)\\n        - perimeter\\n        - area\\n        - smoothness (local variation in radius lengths)\\n        - compactness (perimeter^2 / area - 1.0)\\n        - concavity (severity of concave portions of the contour)\\n        - concave points (number of concave portions of the contour)\\n        - symmetry \\n        - fractal dimension (\"coastline approximation\" - 1)\\n\\n        The mean, standard error, and \"worst\" or largest (mean of the three\\n        largest values) of these features were computed for each image,\\n        resulting in 30 features.  For instance, field 3 is Mean Radius, field\\n        13 is Radius SE, field 23 is Worst Radius.\\n\\n        - class:\\n                - WDBC-Malignant\\n                - WDBC-Benign\\n\\n    :Summary Statistics:\\n\\n    ===================================== ====== ======\\n                                           Min    Max\\n    ===================================== ====== ======\\n    radius (mean):                        6.981  28.11\\n    texture (mean):                       9.71   39.28\\n    perimeter (mean):                     43.79  188.5\\n    area (mean):                          143.5  2501.0\\n    smoothness (mean):                    0.053  0.163\\n    compactness (mean):                   0.019  0.345\\n    concavity (mean):                     0.0    0.427\\n    concave points (mean):                0.0    0.201\\n    symmetry (mean):                      0.106  0.304\\n    fractal dimension (mean):             0.05   0.097\\n    radius (standard error):              0.112  2.873\\n    texture (standard error):             0.36   4.885\\n    perimeter (standard error):           0.757  21.98\\n    area (standard error):                6.802  542.2\\n    smoothness (standard error):          0.002  0.031\\n    compactness (standard error):         0.002  0.135\\n    concavity (standard error):           0.0    0.396\\n    concave points (standard error):      0.0    0.053\\n    symmetry (standard error):            0.008  0.079\\n    fractal dimension (standard error):   0.001  0.03\\n    radius (worst):                       7.93   36.04\\n    texture (worst):                      12.02  49.54\\n    perimeter (worst):                    50.41  251.2\\n    area (worst):                         185.2  4254.0\\n    smoothness (worst):                   0.071  0.223\\n    compactness (worst):                  0.027  1.058\\n    concavity (worst):                    0.0    1.252\\n    concave points (worst):               0.0    0.291\\n    symmetry (worst):                     0.156  0.664\\n    fractal dimension (worst):            0.055  0.208\\n    ===================================== ====== ======\\n\\n    :Missing Attribute Values: None\\n\\n    :Class Distribution: 212 - Malignant, 357 - Benign\\n\\n    :Creator:  Dr. William H. Wolberg, W. Nick Street, Olvi L. Mangasarian\\n\\n    :Donor: Nick Street\\n\\n    :Date: November, 1995\\n\\nThis is a copy of UCI ML Breast Cancer Wisconsin (Diagnostic) datasets.\\nhttps://goo.gl/U2Uwz2\\n\\nFeatures are computed from a digitized image of a fine needle\\naspirate (FNA) of a breast mass.  They describe\\ncharacteristics of the cell nuclei present in the image.\\n\\nSeparating plane described above was obtained using\\nMultisurface Method-Tree (MSM-T) [K. P. Bennett, \"Decision Tree\\nConstruction Via Linear Programming.\" Proceedings of the 4th\\nMidwest Artificial Intelligence and Cognitive Science Society,\\npp. 97-101, 1992], a classification method which uses linear\\nprogramming to construct a decision tree.  Relevant features\\nwere selected using an exhaustive search in the space of 1-4\\nfeatures and 1-3 separating planes.\\n\\nThe actual linear program used to obtain the separating plane\\nin the 3-dimensional space is that described in:\\n[K. P. Bennett and O. L. Mangasarian: \"Robust Linear\\nProgramming Discrimination of Two Linearly Inseparable Sets\",\\nOptimization Methods and Software 1, 1992, 23-34].\\n\\nThis database is also available through the UW CS ftp server:\\n\\nftp ftp.cs.wisc.edu\\ncd math-prog/cpo-dataset/machine-learn/WDBC/\\n\\nReferences\\n----------\\n   - W.N. Street, W.H. Wolberg and O.L. Mangasarian. Nuclear feature extraction \\n     for breast tumor diagnosis. IS&T/SPIE 1993 International Symposium on \\n     Electronic Imaging: Science and Technology, volume 1905, pages 861-870,\\n     San Jose, CA, 1993.\\n   - O.L. Mangasarian, W.N. Street and W.H. Wolberg. Breast cancer diagnosis and \\n     prognosis via linear programming. Operations Research, 43(4), pages 570-577, \\n     July-August 1995.\\n   - W.H. Wolberg, W.N. Street, and O.L. Mangasarian. Machine learning techniques\\n     to diagnose breast cancer from fine-needle aspirates. Cancer Letters 77 (1994) \\n     163-171.\\n',\n",
       " 'feature_names': array(['mean radius', 'mean texture', 'mean perimeter', 'mean area',\n",
       "        'mean smoothness', 'mean compactness', 'mean concavity',\n",
       "        'mean concave points', 'mean symmetry', 'mean fractal dimension',\n",
       "        'radius error', 'texture error', 'perimeter error', 'area error',\n",
       "        'smoothness error', 'compactness error', 'concavity error',\n",
       "        'concave points error', 'symmetry error',\n",
       "        'fractal dimension error', 'worst radius', 'worst texture',\n",
       "        'worst perimeter', 'worst area', 'worst smoothness',\n",
       "        'worst compactness', 'worst concavity', 'worst concave points',\n",
       "        'worst symmetry', 'worst fractal dimension'], dtype='<U23')}"
      ]
     },
     "execution_count": 3,
     "metadata": {},
     "output_type": "execute_result"
    }
   ],
   "source": [
    "cancer"
   ]
  },
  {
   "cell_type": "code",
   "execution_count": 4,
   "metadata": {},
   "outputs": [
    {
     "name": "stdout",
     "output_type": "stream",
     "text": [
      "We have 569 instances in total.\n",
      "357 are benign instances.\n",
      "212 are malignant.\n",
      "0.63% of our instances are benign while 0.37% are malignant.\n"
     ]
    }
   ],
   "source": [
    "print('We have ' +  str(len(cancer['target'])) + ' instances in total.')\n",
    "print(str(sum(cancer['target'])) + ' are benign instances.')\n",
    "print(str(569 - sum(cancer['target'])) + ' are malignant.')\n",
    "print(str(round(357 / 569, 2)) + '% of our instances are benign while ' + str(round(212 / 569, 2)) + '% are malignant.')"
   ]
  },
  {
   "cell_type": "code",
   "execution_count": 5,
   "metadata": {},
   "outputs": [
    {
     "name": "stdout",
     "output_type": "stream",
     "text": [
      "Breast Cancer Wisconsin (Diagnostic) Database\n",
      "=============================================\n",
      "\n",
      "Notes\n",
      "-----\n",
      "Data Set Characteristics:\n",
      "    :Number of Instances: 569\n",
      "\n",
      "    :Number of Attributes: 30 numeric, predictive attributes and the class\n",
      "\n",
      "    :Attribute Information:\n",
      "        - radius (mean of distances from center to points on the perimeter)\n",
      "        - texture (standard deviation of gray-scale values)\n",
      "        - perimeter\n",
      "        - area\n",
      "        - smoothness (local variation in radius lengths)\n",
      "        - compactness (perimeter^2 / area - 1.0)\n",
      "        - concavity (severity of concave portions of the contour)\n",
      "        - concave points (number of concave portions of the contour)\n",
      "        - symmetry \n",
      "        - fractal dimension (\"coastline approximation\" - 1)\n",
      "\n",
      "        The mean, standard error, and \"worst\" or largest (mean of the three\n",
      "        largest values) of these features were computed for each image,\n",
      "        resulting in 30 features.  For instance, field 3 is Mean Radius, field\n",
      "        13 is Radius SE, field 23 is Worst Radius.\n",
      "\n",
      "        - class:\n",
      "                - WDBC-Malignant\n",
      "                - WDBC-Benign\n",
      "\n",
      "    :Summary Statistics:\n",
      "\n",
      "    ===================================== ====== ======\n",
      "                                           Min    Max\n",
      "    ===================================== ====== ======\n",
      "    radius (mean):                        6.981  28.11\n",
      "    texture (mean):                       9.71   39.28\n",
      "    perimeter (mean):                     43.79  188.5\n",
      "    area (mean):                          143.5  2501.0\n",
      "    smoothness (mean):                    0.053  0.163\n",
      "    compactness (mean):                   0.019  0.345\n",
      "    concavity (mean):                     0.0    0.427\n",
      "    concave points (mean):                0.0    0.201\n",
      "    symmetry (mean):                      0.106  0.304\n",
      "    fractal dimension (mean):             0.05   0.097\n",
      "    radius (standard error):              0.112  2.873\n",
      "    texture (standard error):             0.36   4.885\n",
      "    perimeter (standard error):           0.757  21.98\n",
      "    area (standard error):                6.802  542.2\n",
      "    smoothness (standard error):          0.002  0.031\n",
      "    compactness (standard error):         0.002  0.135\n",
      "    concavity (standard error):           0.0    0.396\n",
      "    concave points (standard error):      0.0    0.053\n",
      "    symmetry (standard error):            0.008  0.079\n",
      "    fractal dimension (standard error):   0.001  0.03\n",
      "    radius (worst):                       7.93   36.04\n",
      "    texture (worst):                      12.02  49.54\n",
      "    perimeter (worst):                    50.41  251.2\n",
      "    area (worst):                         185.2  4254.0\n",
      "    smoothness (worst):                   0.071  0.223\n",
      "    compactness (worst):                  0.027  1.058\n",
      "    concavity (worst):                    0.0    1.252\n",
      "    concave points (worst):               0.0    0.291\n",
      "    symmetry (worst):                     0.156  0.664\n",
      "    fractal dimension (worst):            0.055  0.208\n",
      "    ===================================== ====== ======\n",
      "\n",
      "    :Missing Attribute Values: None\n",
      "\n",
      "    :Class Distribution: 212 - Malignant, 357 - Benign\n",
      "\n",
      "    :Creator:  Dr. William H. Wolberg, W. Nick Street, Olvi L. Mangasarian\n",
      "\n",
      "    :Donor: Nick Street\n",
      "\n",
      "    :Date: November, 1995\n",
      "\n",
      "This is a copy of UCI ML Breast Cancer Wisconsin (Diagnostic) datasets.\n",
      "https://goo.gl/U2Uwz2\n",
      "\n",
      "Features are computed from a digitized image of a fine needle\n",
      "aspirate (FNA) of a breast mass.  They describe\n",
      "characteristics of the cell nuclei present in the image.\n",
      "\n",
      "Separating plane described above was obtained using\n",
      "Multisurface Method-Tree (MSM-T) [K. P. Bennett, \"Decision Tree\n",
      "Construction Via Linear Programming.\" Proceedings of the 4th\n",
      "Midwest Artificial Intelligence and Cognitive Science Society,\n",
      "pp. 97-101, 1992], a classification method which uses linear\n",
      "programming to construct a decision tree.  Relevant features\n",
      "were selected using an exhaustive search in the space of 1-4\n",
      "features and 1-3 separating planes.\n",
      "\n",
      "The actual linear program used to obtain the separating plane\n",
      "in the 3-dimensional space is that described in:\n",
      "[K. P. Bennett and O. L. Mangasarian: \"Robust Linear\n",
      "Programming Discrimination of Two Linearly Inseparable Sets\",\n",
      "Optimization Methods and Software 1, 1992, 23-34].\n",
      "\n",
      "This database is also available through the UW CS ftp server:\n",
      "\n",
      "ftp ftp.cs.wisc.edu\n",
      "cd math-prog/cpo-dataset/machine-learn/WDBC/\n",
      "\n",
      "References\n",
      "----------\n",
      "   - W.N. Street, W.H. Wolberg and O.L. Mangasarian. Nuclear feature extraction \n",
      "     for breast tumor diagnosis. IS&T/SPIE 1993 International Symposium on \n",
      "     Electronic Imaging: Science and Technology, volume 1905, pages 861-870,\n",
      "     San Jose, CA, 1993.\n",
      "   - O.L. Mangasarian, W.N. Street and W.H. Wolberg. Breast cancer diagnosis and \n",
      "     prognosis via linear programming. Operations Research, 43(4), pages 570-577, \n",
      "     July-August 1995.\n",
      "   - W.H. Wolberg, W.N. Street, and O.L. Mangasarian. Machine learning techniques\n",
      "     to diagnose breast cancer from fine-needle aspirates. Cancer Letters 77 (1994) \n",
      "     163-171.\n",
      "\n"
     ]
    }
   ],
   "source": [
    "print(cancer['DESCR'])"
   ]
  },
  {
   "cell_type": "code",
   "execution_count": 6,
   "metadata": {},
   "outputs": [],
   "source": [
    "df = pd.DataFrame(cancer['data'], columns=cancer['feature_names'])"
   ]
  },
  {
   "cell_type": "code",
   "execution_count": 7,
   "metadata": {},
   "outputs": [
    {
     "data": {
      "text/html": [
       "<div>\n",
       "<style scoped>\n",
       "    .dataframe tbody tr th:only-of-type {\n",
       "        vertical-align: middle;\n",
       "    }\n",
       "\n",
       "    .dataframe tbody tr th {\n",
       "        vertical-align: top;\n",
       "    }\n",
       "\n",
       "    .dataframe thead th {\n",
       "        text-align: right;\n",
       "    }\n",
       "</style>\n",
       "<table border=\"1\" class=\"dataframe\">\n",
       "  <thead>\n",
       "    <tr style=\"text-align: right;\">\n",
       "      <th></th>\n",
       "      <th>mean radius</th>\n",
       "      <th>mean texture</th>\n",
       "      <th>mean perimeter</th>\n",
       "      <th>mean area</th>\n",
       "      <th>mean smoothness</th>\n",
       "      <th>mean compactness</th>\n",
       "      <th>mean concavity</th>\n",
       "      <th>mean concave points</th>\n",
       "      <th>mean symmetry</th>\n",
       "      <th>mean fractal dimension</th>\n",
       "      <th>...</th>\n",
       "      <th>worst radius</th>\n",
       "      <th>worst texture</th>\n",
       "      <th>worst perimeter</th>\n",
       "      <th>worst area</th>\n",
       "      <th>worst smoothness</th>\n",
       "      <th>worst compactness</th>\n",
       "      <th>worst concavity</th>\n",
       "      <th>worst concave points</th>\n",
       "      <th>worst symmetry</th>\n",
       "      <th>worst fractal dimension</th>\n",
       "    </tr>\n",
       "  </thead>\n",
       "  <tbody>\n",
       "    <tr>\n",
       "      <th>0</th>\n",
       "      <td>17.99</td>\n",
       "      <td>10.38</td>\n",
       "      <td>122.80</td>\n",
       "      <td>1001.0</td>\n",
       "      <td>0.11840</td>\n",
       "      <td>0.27760</td>\n",
       "      <td>0.3001</td>\n",
       "      <td>0.14710</td>\n",
       "      <td>0.2419</td>\n",
       "      <td>0.07871</td>\n",
       "      <td>...</td>\n",
       "      <td>25.38</td>\n",
       "      <td>17.33</td>\n",
       "      <td>184.60</td>\n",
       "      <td>2019.0</td>\n",
       "      <td>0.1622</td>\n",
       "      <td>0.6656</td>\n",
       "      <td>0.7119</td>\n",
       "      <td>0.2654</td>\n",
       "      <td>0.4601</td>\n",
       "      <td>0.11890</td>\n",
       "    </tr>\n",
       "    <tr>\n",
       "      <th>1</th>\n",
       "      <td>20.57</td>\n",
       "      <td>17.77</td>\n",
       "      <td>132.90</td>\n",
       "      <td>1326.0</td>\n",
       "      <td>0.08474</td>\n",
       "      <td>0.07864</td>\n",
       "      <td>0.0869</td>\n",
       "      <td>0.07017</td>\n",
       "      <td>0.1812</td>\n",
       "      <td>0.05667</td>\n",
       "      <td>...</td>\n",
       "      <td>24.99</td>\n",
       "      <td>23.41</td>\n",
       "      <td>158.80</td>\n",
       "      <td>1956.0</td>\n",
       "      <td>0.1238</td>\n",
       "      <td>0.1866</td>\n",
       "      <td>0.2416</td>\n",
       "      <td>0.1860</td>\n",
       "      <td>0.2750</td>\n",
       "      <td>0.08902</td>\n",
       "    </tr>\n",
       "    <tr>\n",
       "      <th>2</th>\n",
       "      <td>19.69</td>\n",
       "      <td>21.25</td>\n",
       "      <td>130.00</td>\n",
       "      <td>1203.0</td>\n",
       "      <td>0.10960</td>\n",
       "      <td>0.15990</td>\n",
       "      <td>0.1974</td>\n",
       "      <td>0.12790</td>\n",
       "      <td>0.2069</td>\n",
       "      <td>0.05999</td>\n",
       "      <td>...</td>\n",
       "      <td>23.57</td>\n",
       "      <td>25.53</td>\n",
       "      <td>152.50</td>\n",
       "      <td>1709.0</td>\n",
       "      <td>0.1444</td>\n",
       "      <td>0.4245</td>\n",
       "      <td>0.4504</td>\n",
       "      <td>0.2430</td>\n",
       "      <td>0.3613</td>\n",
       "      <td>0.08758</td>\n",
       "    </tr>\n",
       "    <tr>\n",
       "      <th>3</th>\n",
       "      <td>11.42</td>\n",
       "      <td>20.38</td>\n",
       "      <td>77.58</td>\n",
       "      <td>386.1</td>\n",
       "      <td>0.14250</td>\n",
       "      <td>0.28390</td>\n",
       "      <td>0.2414</td>\n",
       "      <td>0.10520</td>\n",
       "      <td>0.2597</td>\n",
       "      <td>0.09744</td>\n",
       "      <td>...</td>\n",
       "      <td>14.91</td>\n",
       "      <td>26.50</td>\n",
       "      <td>98.87</td>\n",
       "      <td>567.7</td>\n",
       "      <td>0.2098</td>\n",
       "      <td>0.8663</td>\n",
       "      <td>0.6869</td>\n",
       "      <td>0.2575</td>\n",
       "      <td>0.6638</td>\n",
       "      <td>0.17300</td>\n",
       "    </tr>\n",
       "    <tr>\n",
       "      <th>4</th>\n",
       "      <td>20.29</td>\n",
       "      <td>14.34</td>\n",
       "      <td>135.10</td>\n",
       "      <td>1297.0</td>\n",
       "      <td>0.10030</td>\n",
       "      <td>0.13280</td>\n",
       "      <td>0.1980</td>\n",
       "      <td>0.10430</td>\n",
       "      <td>0.1809</td>\n",
       "      <td>0.05883</td>\n",
       "      <td>...</td>\n",
       "      <td>22.54</td>\n",
       "      <td>16.67</td>\n",
       "      <td>152.20</td>\n",
       "      <td>1575.0</td>\n",
       "      <td>0.1374</td>\n",
       "      <td>0.2050</td>\n",
       "      <td>0.4000</td>\n",
       "      <td>0.1625</td>\n",
       "      <td>0.2364</td>\n",
       "      <td>0.07678</td>\n",
       "    </tr>\n",
       "  </tbody>\n",
       "</table>\n",
       "<p>5 rows × 30 columns</p>\n",
       "</div>"
      ],
      "text/plain": [
       "   mean radius  mean texture  mean perimeter  mean area  mean smoothness  \\\n",
       "0        17.99         10.38          122.80     1001.0          0.11840   \n",
       "1        20.57         17.77          132.90     1326.0          0.08474   \n",
       "2        19.69         21.25          130.00     1203.0          0.10960   \n",
       "3        11.42         20.38           77.58      386.1          0.14250   \n",
       "4        20.29         14.34          135.10     1297.0          0.10030   \n",
       "\n",
       "   mean compactness  mean concavity  mean concave points  mean symmetry  \\\n",
       "0           0.27760          0.3001              0.14710         0.2419   \n",
       "1           0.07864          0.0869              0.07017         0.1812   \n",
       "2           0.15990          0.1974              0.12790         0.2069   \n",
       "3           0.28390          0.2414              0.10520         0.2597   \n",
       "4           0.13280          0.1980              0.10430         0.1809   \n",
       "\n",
       "   mean fractal dimension           ...             worst radius  \\\n",
       "0                 0.07871           ...                    25.38   \n",
       "1                 0.05667           ...                    24.99   \n",
       "2                 0.05999           ...                    23.57   \n",
       "3                 0.09744           ...                    14.91   \n",
       "4                 0.05883           ...                    22.54   \n",
       "\n",
       "   worst texture  worst perimeter  worst area  worst smoothness  \\\n",
       "0          17.33           184.60      2019.0            0.1622   \n",
       "1          23.41           158.80      1956.0            0.1238   \n",
       "2          25.53           152.50      1709.0            0.1444   \n",
       "3          26.50            98.87       567.7            0.2098   \n",
       "4          16.67           152.20      1575.0            0.1374   \n",
       "\n",
       "   worst compactness  worst concavity  worst concave points  worst symmetry  \\\n",
       "0             0.6656           0.7119                0.2654          0.4601   \n",
       "1             0.1866           0.2416                0.1860          0.2750   \n",
       "2             0.4245           0.4504                0.2430          0.3613   \n",
       "3             0.8663           0.6869                0.2575          0.6638   \n",
       "4             0.2050           0.4000                0.1625          0.2364   \n",
       "\n",
       "   worst fractal dimension  \n",
       "0                  0.11890  \n",
       "1                  0.08902  \n",
       "2                  0.08758  \n",
       "3                  0.17300  \n",
       "4                  0.07678  \n",
       "\n",
       "[5 rows x 30 columns]"
      ]
     },
     "execution_count": 7,
     "metadata": {},
     "output_type": "execute_result"
    }
   ],
   "source": [
    "df.head()"
   ]
  },
  {
   "cell_type": "markdown",
   "metadata": {},
   "source": [
    "We perform the standard pre-processing below, and import the libraries we will be needing below that."
   ]
  },
  {
   "cell_type": "code",
   "execution_count": 8,
   "metadata": {},
   "outputs": [],
   "source": [
    "X = df.values\n",
    "y = cancer['target']"
   ]
  },
  {
   "cell_type": "code",
   "execution_count": 9,
   "metadata": {},
   "outputs": [
    {
     "data": {
      "text/html": [
       "<iframe width=\"560\" height=\"315\" src=\"https://www.youtube.com/embed/kw9R0nD69OU\" frameborder=\"0\" allowfullscreen></iframe>"
      ],
      "text/plain": [
       "<IPython.core.display.HTML object>"
      ]
     },
     "execution_count": 9,
     "metadata": {},
     "output_type": "execute_result"
    }
   ],
   "source": [
    "HTML('<iframe width=\"560\" height=\"315\" src=\"https://www.youtube.com/embed/kw9R0nD69OU\" frameborder=\"0\" allowfullscreen></iframe>')"
   ]
  },
  {
   "cell_type": "code",
   "execution_count": 10,
   "metadata": {},
   "outputs": [
    {
     "name": "stdout",
     "output_type": "stream",
     "text": [
      "Explained variance percentage with 1 principal components: 0.9820446715\n",
      "Explained variance percentage with 2 principal components: 0.9982211614\n",
      "Explained variance percentage with 3 principal components: 0.9997786721\n",
      "Explained variance percentage with 4 principal components: 0.9998996041\n",
      "Explained variance percentage with 5 principal components: 0.9999878765\n",
      "Explained variance percentage with 6 principal components: 0.9999945254\n"
     ]
    },
    {
     "data": {
      "text/plain": [
       "Text(0,0.5,'Explained variance')"
      ]
     },
     "execution_count": 10,
     "metadata": {},
     "output_type": "execute_result"
    },
    {
     "data": {
      "image/png": "[encoded data removed]",
      "text/plain": [
       "<Figure size 432x288 with 1 Axes>"
      ]
     },
     "metadata": {
      "needs_background": "light"
     },
     "output_type": "display_data"
    }
   ],
   "source": [
    "from sklearn.decomposition import PCA\n",
    "pca = PCA(n_components=6)\n",
    "pca.fit(X)\n",
    "\n",
    "n = 1\n",
    "for i in np.cumsum(pca.explained_variance_ratio_):\n",
    "    print('Explained variance percentage with ' + str(n) + ' principal components: ' + str(round(i, 10)))\n",
    "    n += 1\n",
    "    \n",
    "plt.plot(range(1, 7), np.cumsum(pca.explained_variance_ratio_), '-o')\n",
    "plt.xlabel('n Principal Components')\n",
    "plt.ylabel('Explained variance')"
   ]
  },
  {
   "cell_type": "code",
   "execution_count": 11,
   "metadata": {},
   "outputs": [],
   "source": [
    "pca = PCA(n_components=3)\n",
    "X = pca.fit_transform(X)"
   ]
  },
  {
   "cell_type": "code",
   "execution_count": 12,
   "metadata": {},
   "outputs": [],
   "source": [
    "from sklearn.model_selection import train_test_split\n",
    "X_train, X_test, y_train, y_test = train_test_split(X, y, test_size=0.15, random_state=0)"
   ]
  },
  {
   "cell_type": "markdown",
   "metadata": {},
   "source": [
    "## K-fold cross validation\n",
    "\n",
    "K-fold cross validation is a great hack for testing out our classifiers which (in a way) enables us to make use 100% of our data for training. It works as illustrated in the following image."
   ]
  },
  {
   "cell_type": "markdown",
   "metadata": {},
   "source": [
    "<img src=\"https://www.researchgate.net/profile/Juan_Buhagiar2/publication/322509110/figure/fig1/AS:583173118664704@1516050714606/An-example-of-a-10-fold-cross-validation-cro17.png\">"
   ]
  },
  {
   "cell_type": "markdown",
   "metadata": {},
   "source": [
    "## Performance metrics\n",
    "\n",
    "In this dataset (as shown above), we have considerably more benign tumours in our dataset than malignant ones.\n",
    "\n",
    "Now, imagine we were building a classifier that screened for a rare disease - one that only 0.0001% of the general population had. Then if we had a classifier that just classified everyone as free of this disease, it would be 99.9999% accurate - even though it is commpletely bogus!\n",
    "\n",
    "This is why we use different performance metrics. Accuracy is one such metric that has its uses - other well-known performance metrics include the ROC AUC score and the F1/Fbeta score."
   ]
  },
  {
   "cell_type": "code",
   "execution_count": 14,
   "metadata": {},
   "outputs": [
    {
     "name": "stderr",
     "output_type": "stream",
     "text": [
      "C:\\Users\\s1895125\\AppData\\Local\\Continuum\\anaconda3\\lib\\site-packages\\sklearn\\ensemble\\weight_boosting.py:29: DeprecationWarning: numpy.core.umath_tests is an internal NumPy module and should not be imported. It will be removed in a future NumPy release.\n",
      "  from numpy.core.umath_tests import inner1d\n"
     ]
    }
   ],
   "source": [
    "from sklearn.metrics import accuracy_score, fbeta_score, make_scorer # make_scorer is needed in k-fold CV\n",
    "from sklearn.model_selection import cross_val_score\n",
    "\n",
    "from sklearn.neighbors import KNeighborsClassifier\n",
    "from sklearn.neural_network import MLPClassifier\n",
    "from sklearn.ensemble import RandomForestClassifier, GradientBoostingClassifier"
   ]
  },
  {
   "cell_type": "code",
   "execution_count": 15,
   "metadata": {},
   "outputs": [],
   "source": [
    "scorer = make_scorer(fbeta_score, beta=2)"
   ]
  },
  {
   "cell_type": "code",
   "execution_count": 16,
   "metadata": {},
   "outputs": [
    {
     "name": "stdout",
     "output_type": "stream",
     "text": [
      "K-fold CV score for 1 neighbors: 0.9395736582568623\n",
      "K-fold CV score for 2 neighbors: 0.9159055157096929\n",
      "K-fold CV score for 3 neighbors: 0.9427014259539919\n",
      "K-fold CV score for 4 neighbors: 0.9368342379381099\n",
      "K-fold CV score for 5 neighbors: 0.9544251123545079\n",
      "K-fold CV score for 6 neighbors: 0.9496000524096935\n",
      "K-fold CV score for 7 neighbors: 0.9577067018540966\n",
      "K-fold CV score for 8 neighbors: 0.9555231871423506\n",
      "K-fold CV score for 9 neighbors: 0.9578209783886473\n",
      "K-fold CV score for 10 neighbors: 0.9569598916635786\n",
      "K-fold CV score for 11 neighbors: 0.960986032139834\n",
      "K-fold CV score for 12 neighbors: 0.9616310269798752\n",
      "K-fold CV score for 13 neighbors: 0.9623921529007935\n",
      "K-fold CV score for 14 neighbors: 0.9577739682236721\n",
      "K-fold CV score for 15 neighbors: 0.9612258809540337\n",
      "K-fold CV score for 16 neighbors: 0.9630832532392448\n",
      "K-fold CV score for 17 neighbors: 0.9605848553130081\n",
      "K-fold CV score for 18 neighbors: 0.9618179110046625\n",
      "K-fold CV score for 19 neighbors: 0.9593803803824186\n",
      "K-fold CV score for 20 neighbors: 0.9605848553130081\n",
      "K-fold CV score for 21 neighbors: 0.9633902191459475\n",
      "K-fold CV score for 22 neighbors: 0.9561393999971937\n",
      "K-fold CV score for 23 neighbors: 0.9555473699465651\n",
      "K-fold CV score for 24 neighbors: 0.9561520623596909\n",
      "K-fold CV score for 25 neighbors: 0.9581657193391079\n",
      "K-fold CV score for 26 neighbors: 0.9587704117522338\n",
      "K-fold CV score for 27 neighbors: 0.9595283066879873\n",
      "K-fold CV score for 28 neighbors: 0.9581472937832103\n",
      "K-fold CV score for 29 neighbors: 0.9569378415401019\n",
      "K-fold CV score for 30 neighbors: 0.9555569019807202\n",
      "K-fold CV score for 31 neighbors: 0.9595124360719195\n",
      "K-fold CV score for 32 neighbors: 0.9569069770148475\n",
      "K-fold CV score for 33 neighbors: 0.9556721221215161\n",
      "K-fold CV score for 34 neighbors: 0.9575452985991719\n",
      "K-fold CV score for 35 neighbors: 0.9569124388898789\n",
      "K-fold CV score for 36 neighbors: 0.9575452985991719\n",
      "K-fold CV score for 37 neighbors: 0.9576272942572898\n",
      "K-fold CV score for 38 neighbors: 0.9568815743646247\n",
      "K-fold CV score for 39 neighbors: 0.9608580096736912\n",
      "K-fold CV score for 40 neighbors: 0.9614828585005879\n",
      "K-fold CV score for 41 neighbors: 0.9608932358590785\n",
      "K-fold CV score for 42 neighbors: 0.9608932358590785\n",
      "K-fold CV score for 43 neighbors: 0.9608932358590785\n",
      "K-fold CV score for 44 neighbors: 0.9608932358590785\n",
      "K-fold CV score for 45 neighbors: 0.9608932358590785\n",
      "K-fold CV score for 46 neighbors: 0.958333371310179\n",
      "K-fold CV score for 47 neighbors: 0.960856663235645\n",
      "K-fold CV score for 48 neighbors: 0.958333371310179\n",
      "K-fold CV score for 49 neighbors: 0.9577085224832823\n",
      "K-fold CV score for 50 neighbors: 0.9577085224832823\n",
      "\n",
      "Highest CV score: 0.9633902191459475 with 21 neighbors\n"
     ]
    },
    {
     "data": {
      "text/plain": [
       "Text(0,0.5,'K-fold CV score')"
      ]
     },
     "execution_count": 16,
     "metadata": {},
     "output_type": "execute_result"
    },
    {
     "data": {
      "image/png": "[encoded data removed]",
      "text/plain": [
       "<Figure size 432x288 with 1 Axes>"
      ]
     },
     "metadata": {
      "needs_background": "light"
     },
     "output_type": "display_data"
    }
   ],
   "source": [
    "scores = []\n",
    "\n",
    "for n in range(1, 51):\n",
    "    knn = KNeighborsClassifier(n_neighbors=n)\n",
    "    knn.fit(X_train, y_train)\n",
    "    y_pred = knn.predict(X_test)\n",
    "    score = np.mean(cross_val_score(estimator=knn, X=X_train, y=y_train, cv=10, scoring=scorer))\n",
    "    scores.append(score)\n",
    "    print('K-fold CV score for ' + str(n) + ' neighbors: ' + str(score))\n",
    "    \n",
    "print('\\nHighest CV score: ' + str(max(scores)) + ' with ' + str(scores.index(max(scores)) + 1) + ' neighbors')\n",
    "    \n",
    "plt.plot(range(1, 51), scores)\n",
    "plt.xlabel('# of neighbors')\n",
    "plt.ylabel('K-fold CV score')"
   ]
  },
  {
   "cell_type": "markdown",
   "metadata": {},
   "source": [
    "Our highest score is with 16 neighbors - but we notice that our F3 score drops rapidly after that, so to be on the safe side it would probably be best to set our K a little lower than that, say 13."
   ]
  },
  {
   "cell_type": "code",
   "execution_count": 17,
   "metadata": {},
   "outputs": [
    {
     "name": "stdout",
     "output_type": "stream",
     "text": [
      "K-fold CV score for 1 estimators: 0.8928799540826885\n",
      "K-fold CV score for 2 estimators: 0.8517415986104252\n",
      "K-fold CV score for 3 estimators: 0.9354412619548842\n",
      "K-fold CV score for 4 estimators: 0.91889907905763\n",
      "K-fold CV score for 5 estimators: 0.9486120469663251\n",
      "K-fold CV score for 6 estimators: 0.9364534766041517\n",
      "K-fold CV score for 7 estimators: 0.9526659810244411\n",
      "K-fold CV score for 8 estimators: 0.9432756288790705\n",
      "K-fold CV score for 9 estimators: 0.9504848915677566\n",
      "K-fold CV score for 10 estimators: 0.9437496396940329\n",
      "K-fold CV score for 11 estimators: 0.9446197889284604\n",
      "K-fold CV score for 12 estimators: 0.9425642383587627\n",
      "K-fold CV score for 13 estimators: 0.9498852224197005\n",
      "K-fold CV score for 14 estimators: 0.9425642383587627\n",
      "K-fold CV score for 15 estimators: 0.9478637775292696\n",
      "K-fold CV score for 16 estimators: 0.9452035345464461\n",
      "K-fold CV score for 17 estimators: 0.9504611801266722\n",
      "K-fold CV score for 18 estimators: 0.9457690980152353\n",
      "K-fold CV score for 19 estimators: 0.9478218839389889\n",
      "K-fold CV score for 20 estimators: 0.9478218839389889\n",
      "K-fold CV score for 21 estimators: 0.9504611801266722\n",
      "K-fold CV score for 22 estimators: 0.9478218839389889\n",
      "K-fold CV score for 23 estimators: 0.953087317430229\n",
      "K-fold CV score for 24 estimators: 0.9478637775292696\n",
      "K-fold CV score for 25 estimators: 0.9504899148328263\n",
      "K-fold CV score for 26 estimators: 0.9478637775292696\n",
      "K-fold CV score for 27 estimators: 0.9530953738898983\n",
      "K-fold CV score for 28 estimators: 0.9478637775292696\n",
      "K-fold CV score for 29 estimators: 0.9530953738898983\n",
      "K-fold CV score for 30 estimators: 0.9505026905647309\n",
      "K-fold CV score for 31 estimators: 0.9505026905647309\n",
      "K-fold CV score for 32 estimators: 0.9505026905647309\n",
      "K-fold CV score for 33 estimators: 0.9505026905647309\n",
      "K-fold CV score for 34 estimators: 0.9505026905647309\n",
      "K-fold CV score for 35 estimators: 0.9505026905647309\n",
      "K-fold CV score for 36 estimators: 0.9505026905647309\n",
      "K-fold CV score for 37 estimators: 0.9532543684170799\n",
      "K-fold CV score for 38 estimators: 0.9505026905647309\n",
      "K-fold CV score for 39 estimators: 0.9532543684170799\n",
      "K-fold CV score for 40 estimators: 0.9532543684170799\n",
      "K-fold CV score for 41 estimators: 0.9532543684170799\n",
      "K-fold CV score for 42 estimators: 0.9532543684170799\n",
      "K-fold CV score for 43 estimators: 0.9532543684170799\n",
      "K-fold CV score for 44 estimators: 0.9532543684170799\n",
      "K-fold CV score for 45 estimators: 0.9558517710144825\n",
      "K-fold CV score for 46 estimators: 0.9558517710144825\n",
      "K-fold CV score for 47 estimators: 0.9558517710144825\n",
      "K-fold CV score for 48 estimators: 0.9532543684170799\n",
      "K-fold CV score for 49 estimators: 0.9532543684170799\n",
      "K-fold CV score for 50 estimators: 0.9532543684170799\n",
      "\n",
      "Highest CV score: 0.9558517710144825 with 45 estimators\n"
     ]
    },
    {
     "data": {
      "text/plain": [
       "Text(0,0.5,'K-fold CV score')"
      ]
     },
     "execution_count": 17,
     "metadata": {},
     "output_type": "execute_result"
    },
    {
     "data": {
      "image/png": "[encoded data removed]",
      "text/plain": [
       "<Figure size 432x288 with 1 Axes>"
      ]
     },
     "metadata": {
      "needs_background": "light"
     },
     "output_type": "display_data"
    }
   ],
   "source": [
    "scores = []\n",
    "\n",
    "for n in range(1, 51):\n",
    "    rfc = RandomForestClassifier(random_state=1, n_estimators=n)\n",
    "    rfc.fit(X_train, y_train)\n",
    "    y_pred = rfc.predict(X_test)\n",
    "    score = np.mean(cross_val_score(estimator=rfc, X=X_train, y=y_train, cv=10, scoring=scorer))\n",
    "    scores.append(score)\n",
    "    print('K-fold CV score for ' + str(n) + ' estimators: ' + str(score))\n",
    "    \n",
    "print('\\nHighest CV score: ' + str(max(scores)) + ' with ' + str(scores.index(max(scores)) + 1) + ' estimators')\n",
    "    \n",
    "plt.plot(range(1, 51), scores)\n",
    "plt.xlabel('# of estimators')\n",
    "plt.ylabel('K-fold CV score')"
   ]
  },
  {
   "cell_type": "markdown",
   "metadata": {},
   "source": [
    "With a similar argument to previously, I would suggest 20 estimators, but a case could be made for others, e.g. our high-scorer, 4."
   ]
  },
  {
   "cell_type": "code",
   "execution_count": 18,
   "metadata": {
    "scrolled": false
   },
   "outputs": [
    {
     "name": "stdout",
     "output_type": "stream",
     "text": [
      "K-fold CV score for 1 estimators: 0.8971496112493389\n",
      "K-fold CV score for 2 estimators: 0.8971496112493389\n",
      "K-fold CV score for 3 estimators: 0.9579922251335786\n",
      "K-fold CV score for 4 estimators: 0.9491121905187004\n",
      "K-fold CV score for 5 estimators: 0.9509633051683821\n",
      "K-fold CV score for 6 estimators: 0.9515961648776748\n",
      "K-fold CV score for 7 estimators: 0.9515961648776748\n",
      "K-fold CV score for 8 estimators: 0.9515961648776748\n",
      "K-fold CV score for 9 estimators: 0.9533850747490552\n",
      "K-fold CV score for 10 estimators: 0.9546297387371527\n",
      "K-fold CV score for 11 estimators: 0.9546297387371527\n",
      "K-fold CV score for 12 estimators: 0.9558133352203326\n",
      "K-fold CV score for 13 estimators: 0.958528567008412\n",
      "K-fold CV score for 14 estimators: 0.9558480022252022\n",
      "K-fold CV score for 15 estimators: 0.9558585781805228\n",
      "K-fold CV score for 16 estimators: 0.9558585781805228\n",
      "K-fold CV score for 17 estimators: 0.9558585781805228\n",
      "K-fold CV score for 18 estimators: 0.9512730307259893\n",
      "K-fold CV score for 19 estimators: 0.9532531191234508\n",
      "K-fold CV score for 20 estimators: 0.9506683383128636\n",
      "K-fold CV score for 21 estimators: 0.9506683383128636\n",
      "K-fold CV score for 22 estimators: 0.9506683383128636\n",
      "K-fold CV score for 23 estimators: 0.9506683383128636\n",
      "K-fold CV score for 24 estimators: 0.9506683383128636\n",
      "K-fold CV score for 25 estimators: 0.9506683383128636\n",
      "K-fold CV score for 26 estimators: 0.9506683383128636\n",
      "K-fold CV score for 27 estimators: 0.9506683383128636\n",
      "K-fold CV score for 28 estimators: 0.9506683383128636\n",
      "K-fold CV score for 29 estimators: 0.9506683383128636\n",
      "K-fold CV score for 30 estimators: 0.9513011980221563\n",
      "K-fold CV score for 31 estimators: 0.9513011980221563\n",
      "K-fold CV score for 32 estimators: 0.9492903056886833\n",
      "K-fold CV score for 33 estimators: 0.9492903056886833\n",
      "K-fold CV score for 34 estimators: 0.9486574459793905\n",
      "K-fold CV score for 35 estimators: 0.9492903056886833\n",
      "K-fold CV score for 36 estimators: 0.9492903056886833\n",
      "K-fold CV score for 37 estimators: 0.9493495809136963\n",
      "K-fold CV score for 38 estimators: 0.9467102847260129\n",
      "K-fold CV score for 39 estimators: 0.9467102847260129\n",
      "K-fold CV score for 40 estimators: 0.9492903056886833\n",
      "K-fold CV score for 41 estimators: 0.9492903056886833\n",
      "K-fold CV score for 42 estimators: 0.9492903056886833\n",
      "K-fold CV score for 43 estimators: 0.9492903056886833\n",
      "K-fold CV score for 44 estimators: 0.9492903056886833\n",
      "K-fold CV score for 45 estimators: 0.9492903056886833\n",
      "K-fold CV score for 46 estimators: 0.9467102847260129\n",
      "K-fold CV score for 47 estimators: 0.9498949981018091\n",
      "K-fold CV score for 48 estimators: 0.9473023147766417\n",
      "K-fold CV score for 49 estimators: 0.9473023147766417\n",
      "K-fold CV score for 50 estimators: 0.9473023147766417\n",
      "\n",
      "Highest CV score: 0.958528567008412 with 13 estimators\n"
     ]
    },
    {
     "data": {
      "text/plain": [
       "Text(0,0.5,'K-fold CV score')"
      ]
     },
     "execution_count": 18,
     "metadata": {},
     "output_type": "execute_result"
    },
    {
     "data": {
      "image/png": "[encoded data removed]",
      "text/plain": [
       "<Figure size 432x288 with 1 Axes>"
      ]
     },
     "metadata": {
      "needs_background": "light"
     },
     "output_type": "display_data"
    }
   ],
   "source": [
    "scores = []\n",
    "\n",
    "for n in range(1, 51):\n",
    "    gbc = GradientBoostingClassifier(random_state=1, n_estimators=n)\n",
    "    gbc.fit(X_train, y_train)\n",
    "    y_pred = gbc.predict(X_test)\n",
    "    score = np.mean(cross_val_score(estimator=gbc, X=X_train, y=y_train, cv=10, scoring=scorer))\n",
    "    scores.append(score)\n",
    "    print('K-fold CV score for ' + str(n) + ' estimators: ' + str(score))\n",
    "    \n",
    "print('\\nHighest CV score: ' + str(max(scores)) + ' with ' + str(scores.index(max(scores)) + 1) + ' estimators')\n",
    "    \n",
    "plt.plot(range(1, 51), scores)\n",
    "plt.xlabel('# of estimators')\n",
    "plt.ylabel('K-fold CV score')"
   ]
  },
  {
   "cell_type": "markdown",
   "metadata": {},
   "source": [
    "Since the Multi-Layer Preseptron classifier uses a few important parameters, it might be a better idea to use grid search rather than plottig our results."
   ]
  },
  {
   "cell_type": "code",
   "execution_count": 19,
   "metadata": {},
   "outputs": [],
   "source": [
    "from sklearn.model_selection import GridSearchCV"
   ]
  },
  {
   "cell_type": "code",
   "execution_count": 20,
   "metadata": {},
   "outputs": [],
   "source": [
    "parameter_grid = {'alpha': [0.001, 0.01, 0.05, 0.1], 'hidden_layer_sizes': [(100,), (100, 50), (120,), (120, 50)]}"
   ]
  },
  {
   "cell_type": "code",
   "execution_count": 21,
   "metadata": {},
   "outputs": [
    {
     "name": "stdout",
     "output_type": "stream",
     "text": [
      "Fitting 10 folds for each of 16 candidates, totalling 160 fits\n"
     ]
    },
    {
     "name": "stderr",
     "output_type": "stream",
     "text": [
      "[Parallel(n_jobs=1)]: Done 160 out of 160 | elapsed:    9.4s finished\n"
     ]
    },
    {
     "data": {
      "text/plain": [
       "GridSearchCV(cv=10, error_score='raise',\n",
       "       estimator=MLPClassifier(activation='relu', alpha=0.0001, batch_size='auto', beta_1=0.9,\n",
       "       beta_2=0.999, early_stopping=False, epsilon=1e-08,\n",
       "       hidden_layer_sizes=(100,), learning_rate='constant',\n",
       "       learning_rate_init=0.001, max_iter=200, momentum=0.9,\n",
       "       nesterovs_momentum=True, power_t=0.5, random_state=1, shuffle=True,\n",
       "       solver='adam', tol=0.0001, validation_fraction=0.1, verbose=False,\n",
       "       warm_start=False),\n",
       "       fit_params=None, iid=True, n_jobs=1,\n",
       "       param_grid={'alpha': [0.001, 0.01, 0.05, 0.1], 'hidden_layer_sizes': [(100,), (100, 50), (120,), (120, 50)]},\n",
       "       pre_dispatch='2*n_jobs', refit=True, return_train_score='warn',\n",
       "       scoring=None, verbose=1)"
      ]
     },
     "execution_count": 21,
     "metadata": {},
     "output_type": "execute_result"
    }
   ],
   "source": [
    "mlp = MLPClassifier(random_state=1)\n",
    "gs = GridSearchCV(mlp, param_grid=parameter_grid, cv=10, verbose=1)\n",
    "gs.fit(X_train, y_train)"
   ]
  },
  {
   "cell_type": "code",
   "execution_count": 22,
   "metadata": {},
   "outputs": [
    {
     "name": "stdout",
     "output_type": "stream",
     "text": [
      "0.9715902524331849\n"
     ]
    }
   ],
   "source": [
    "mlp = MLPClassifier(random_state=1, alpha=0.0001, hidden_layer_sizes=(100,))\n",
    "\n",
    "print(np.mean(cross_val_score(estimator=mlp, X=X_train, y=y_train, cv=10, scoring=scorer)))"
   ]
  },
  {
   "cell_type": "markdown",
   "metadata": {},
   "source": [
    "Now that we have decided our tuning parameters, we can set them - and then use the majority voting classifier to come up with an even better classifier:"
   ]
  },
  {
   "cell_type": "code",
   "execution_count": 48,
   "metadata": {},
   "outputs": [],
   "source": [
    "knn = KNeighborsClassifier(n_neighbors=20)\n",
    "rfc = RandomForestClassifier(random_state=1, n_estimators=45)\n",
    "gbc = GradientBoostingClassifier(random_state=1, n_estimators=13)\n",
    "mlp = MLPClassifier(random_state=1, alpha=0.0001, hidden_layer_sizes=(100,))\n",
    "\n",
    "classifiers = [knn, rfc, gbc, mlp]\n",
    "\n",
    "for c in classifiers:\n",
    "    c.fit(X_train, y_train)"
   ]
  },
  {
   "cell_type": "code",
   "execution_count": 24,
   "metadata": {},
   "outputs": [],
   "source": [
    "import warnings\n",
    "warnings.filterwarnings(action='ignore', category=DeprecationWarning)"
   ]
  },
  {
   "cell_type": "code",
   "execution_count": 49,
   "metadata": {},
   "outputs": [
    {
     "name": "stdout",
     "output_type": "stream",
     "text": [
      "0.9550899572417035\n"
     ]
    }
   ],
   "source": [
    "from sklearn.ensemble import VotingClassifier\n",
    "classifier_tuples = [('KNN', knn), ('RFC', rfc), ('GBC', gbc), ('MLP', mlp)]\n",
    "vot = VotingClassifier(estimators=classifier_tuples, weights=[1, 1, 1, 1])\n",
    "\n",
    "print(np.mean(cross_val_score(estimator=vot, X=X_train, y=y_train, cv=10, scoring=scorer)))"
   ]
  },
  {
   "cell_type": "code",
   "execution_count": 50,
   "metadata": {},
   "outputs": [
    {
     "name": "stdout",
     "output_type": "stream",
     "text": [
      "Accuracy score: 0.9534883720930233\n",
      "F3 score: 0.9496124031007752\n",
      " \n",
      "Accuracy score: 0.9418604651162791\n",
      "F3 score: 0.935114503816794\n",
      " \n",
      "Accuracy score: 0.9418604651162791\n",
      "F3 score: 0.9448818897637795\n",
      " \n",
      "Accuracy score: 0.9302325581395349\n",
      "F3 score: 0.9302325581395349\n",
      " \n",
      "Accuracy score: 0.9534883720930233\n",
      "F3 score: 0.9496124031007752\n",
      " \n"
     ]
    }
   ],
   "source": [
    "for classifier in [knn, rfc, gbc, mlp, vot]:\n",
    "    classifier.fit(X_train, y_train)\n",
    "    y_pred = classifier.predict(X_test)\n",
    "    print('Accuracy score: ' + str(accuracy_score(y_pred, y_test)))\n",
    "    print('F3 score: ' + str(fbeta_score(y_pred, y_test, beta=2)))\n",
    "    print(' ')"
   ]
  },
  {
   "cell_type": "markdown",
   "metadata": {},
   "source": [
    "Let's look at confusion matrices to help us break down the output of the classifiers:"
   ]
  },
  {
   "cell_type": "code",
   "execution_count": 56,
   "metadata": {},
   "outputs": [],
   "source": [
    "import itertools \n",
    "from sklearn.metrics import confusion_matrix\n",
    "\n",
    "def plot_confusion_matrix(cm, classes,\n",
    "                          normalize=False,\n",
    "                          title='Confusion matrix',\n",
    "                          cmap=plt.cm.Blues):\n",
    "    \"\"\"\n",
    "    This function prints and plots the confusion matrix.\n",
    "    Normalization can be applied by setting `normalize=True`.\n",
    "    \"\"\"\n",
    "    if normalize:\n",
    "        cm = cm.astype('float') / cm.sum(axis=1)[:, np.newaxis]\n",
    "\n",
    "    plt.imshow(cm, interpolation='nearest', cmap=cmap)\n",
    "    plt.title(title)\n",
    "    plt.colorbar()\n",
    "    tick_marks = np.arange(len(classes))\n",
    "    plt.xticks(tick_marks, classes, rotation=45)\n",
    "    plt.yticks(tick_marks, classes)\n",
    "\n",
    "    fmt = '.2f' if normalize else 'd'\n",
    "    thresh = cm.max() / 2.\n",
    "    for i, j in itertools.product(range(cm.shape[0]), range(cm.shape[1])):\n",
    "        plt.text(j, i, format(cm[i, j], fmt),\n",
    "                 horizontalalignment=\"center\",\n",
    "                 color=\"white\" if cm[i, j] > thresh else \"black\")\n",
    "\n",
    "    plt.ylabel('True label')\n",
    "    plt.xlabel('Predicted label')\n",
    "    plt.tight_layout()"
   ]
  },
  {
   "cell_type": "code",
   "execution_count": 57,
   "metadata": {},
   "outputs": [
    {
     "data": {
      "image/png": "[encoded data removed]",
      "text/plain": [
       "<Figure size 432x288 with 2 Axes>"
      ]
     },
     "metadata": {
      "needs_background": "light"
     },
     "output_type": "display_data"
    },
    {
     "data": {
      "image/png": "[encoded data removed]",
      "text/plain": [
       "<Figure size 432x288 with 2 Axes>"
      ]
     },
     "metadata": {
      "needs_background": "light"
     },
     "output_type": "display_data"
    },
    {
     "data": {
      "image/png": "[encoded data removed]",
      "text/plain": [
       "<Figure size 432x288 with 2 Axes>"
      ]
     },
     "metadata": {
      "needs_background": "light"
     },
     "output_type": "display_data"
    }
   ],
   "source": [
    "y_pred = knn.predict(X_test)\n",
    "cnf_matrix = confusion_matrix(y_test, y_pred)\n",
    "plot_confusion_matrix(cnf_matrix, classes=['malignant', 'benign'], title='Confusion matrix for K nearest Neighbors')\n",
    "plt.show()\n",
    "\n",
    "y_pred = rfc.predict(X_test)\n",
    "cnf_matrix = confusion_matrix(y_test, y_pred)\n",
    "plot_confusion_matrix(cnf_matrix, classes=['malignant', 'benign'], title='Confusion matrix for Random Forest Classifier')\n",
    "plt.show()\n",
    "\n",
    "y_pred = vot.predict(X_test)\n",
    "cnf_matrix = confusion_matrix(y_test, y_pred)\n",
    "plot_confusion_matrix(cnf_matrix, classes=['malignant', 'benign'], title='Confusion matrix for Majority Voting Classifier')\n",
    "plt.show()"
   ]
  },
  {
   "cell_type": "markdown",
   "metadata": {},
   "source": [
    "We can plot our data in 2 dimensions to get a feel for how separable the dataset is, to help us judge whether our algorithms are doing a much better job than a human could do."
   ]
  },
  {
   "cell_type": "code",
   "execution_count": 54,
   "metadata": {},
   "outputs": [
    {
     "data": {
      "text/plain": [
       "<matplotlib.axes._subplots.AxesSubplot at 0x1476feb8>"
      ]
     },
     "execution_count": 54,
     "metadata": {},
     "output_type": "execute_result"
    },
    {
     "data": {
      "image/png": "[encoded data removed]",
      "text/plain": [
       "<Figure size 1080x720 with 1 Axes>"
      ]
     },
     "metadata": {
      "needs_background": "light"
     },
     "output_type": "display_data"
    }
   ],
   "source": [
    "pca = PCA(n_components=2)\n",
    "X = pca.fit_transform(df.values[:, :])\n",
    "fig, ax = plt.subplots(figsize=(15, 10))\n",
    "hue = [['Malignant', 'Benign'][x == 1] for x in y]\n",
    "\n",
    "sns.scatterplot(x=X[:, 0], y=X[:, 1], hue=hue)"
   ]
  },
  {
   "cell_type": "code",
   "execution_count": null,
   "metadata": {},
   "outputs": [],
   "source": []
  }
 ],
 "metadata": {
  "kernelspec": {
   "display_name": "Python 3",
   "language": "python",
   "name": "python3"
  },
  "language_info": {
   "codemirror_mode": {
    "name": "ipython",
    "version": 3
   },
   "file_extension": ".py",
   "mimetype": "text/x-python",
   "name": "python",
   "nbconvert_exporter": "python",
   "pygments_lexer": "ipython3",
   "version": "3.7.0"
  }
 },
 "nbformat": 4,
 "nbformat_minor": 1
}
